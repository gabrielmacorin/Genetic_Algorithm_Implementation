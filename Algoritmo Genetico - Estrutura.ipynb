{
 "cells": [
  {
   "cell_type": "markdown",
   "metadata": {},
   "source": [
    "##### Bibliotecas"
   ]
  },
  {
   "cell_type": "code",
   "execution_count": 1,
   "metadata": {},
   "outputs": [],
   "source": [
    "import pandas as pd\n",
    "import numpy as np\n",
    "import collections"
   ]
  },
  {
   "cell_type": "markdown",
   "metadata": {},
   "source": [
    "##### Variaveis de teste"
   ]
  },
  {
   "cell_type": "code",
   "execution_count": 2,
   "metadata": {},
   "outputs": [],
   "source": [
    "# variaveis para teste do modelo\n",
    "cols = ['x1', 'x2', 'x3', 'x4', 'target']\n",
    "val = [[1,0,1,1, 'A'], [1,1,0,0, 'A'], [1,0,0,1, 'I'], [0,1,1,1, 'I'], [0,1,0,1, 'I']]\n",
    "\n",
    "teste = pd.DataFrame(val, columns=cols)"
   ]
  },
  {
   "cell_type": "code",
   "execution_count": 3,
   "metadata": {},
   "outputs": [
    {
     "data": {
      "text/html": [
       "<div>\n",
       "<style scoped>\n",
       "    .dataframe tbody tr th:only-of-type {\n",
       "        vertical-align: middle;\n",
       "    }\n",
       "\n",
       "    .dataframe tbody tr th {\n",
       "        vertical-align: top;\n",
       "    }\n",
       "\n",
       "    .dataframe thead th {\n",
       "        text-align: right;\n",
       "    }\n",
       "</style>\n",
       "<table border=\"1\" class=\"dataframe\">\n",
       "  <thead>\n",
       "    <tr style=\"text-align: right;\">\n",
       "      <th></th>\n",
       "      <th>x1</th>\n",
       "      <th>x2</th>\n",
       "      <th>x3</th>\n",
       "      <th>x4</th>\n",
       "      <th>target</th>\n",
       "    </tr>\n",
       "  </thead>\n",
       "  <tbody>\n",
       "    <tr>\n",
       "      <th>0</th>\n",
       "      <td>1</td>\n",
       "      <td>0</td>\n",
       "      <td>1</td>\n",
       "      <td>1</td>\n",
       "      <td>A</td>\n",
       "    </tr>\n",
       "    <tr>\n",
       "      <th>1</th>\n",
       "      <td>1</td>\n",
       "      <td>1</td>\n",
       "      <td>0</td>\n",
       "      <td>0</td>\n",
       "      <td>A</td>\n",
       "    </tr>\n",
       "    <tr>\n",
       "      <th>2</th>\n",
       "      <td>1</td>\n",
       "      <td>0</td>\n",
       "      <td>0</td>\n",
       "      <td>1</td>\n",
       "      <td>I</td>\n",
       "    </tr>\n",
       "    <tr>\n",
       "      <th>3</th>\n",
       "      <td>0</td>\n",
       "      <td>1</td>\n",
       "      <td>1</td>\n",
       "      <td>1</td>\n",
       "      <td>I</td>\n",
       "    </tr>\n",
       "    <tr>\n",
       "      <th>4</th>\n",
       "      <td>0</td>\n",
       "      <td>1</td>\n",
       "      <td>0</td>\n",
       "      <td>1</td>\n",
       "      <td>I</td>\n",
       "    </tr>\n",
       "  </tbody>\n",
       "</table>\n",
       "</div>"
      ],
      "text/plain": [
       "   x1  x2  x3  x4 target\n",
       "0   1   0   1   1      A\n",
       "1   1   1   0   0      A\n",
       "2   1   0   0   1      I\n",
       "3   0   1   1   1      I\n",
       "4   0   1   0   1      I"
      ]
     },
     "execution_count": 3,
     "metadata": {},
     "output_type": "execute_result"
    }
   ],
   "source": [
    "teste"
   ]
  },
  {
   "cell_type": "markdown",
   "metadata": {},
   "source": [
    "###### fitness para classificacao binaria\n",
    "c1 = previsao_correta_c1/total_c1\n",
    "c2 = previsao_correta_c2/total_c2\n",
    "\n",
    "fc = c1*c2\n",
    "\n",
    "###### fitness para classificacao multi classe\n",
    "c1 = previsao_correta_c1/total_c1\n",
    "c2 = previsao_correta_c2/total_c2\n",
    "c3 = previsao_correta_c3/total_c3\n",
    "\n",
    "fc = c1 + c2 + c3 ...\n",
    "\n",
    "###### quatérnio de Holland\n",
    "Q = b0 + b1x1 + b2x2 + b3x3\n",
    "\n",
    "###### decaenaquarternio\n",
    "$\\sum[ba1 * xa1 + ba2 * xa2]$\n",
    "\n",
    "###### hurst para valor aleatorio\n",
    "$b = -1 + 2 * random$"
   ]
  },
  {
   "cell_type": "code",
   "execution_count": 4,
   "metadata": {},
   "outputs": [],
   "source": [
    "# separa a variavel preditora dos atributos\n",
    "x = teste.drop(columns = 'target')\n",
    "y = np.where(teste.target == 'I', 0, 1)\n",
    "\n",
    "# cria coluna para calcular b0\n",
    "b0 = np.ones((x.shape[0],1))\n",
    "x = x.to_numpy()\n",
    "\n",
    "x = np.append(b0, x, axis=1)"
   ]
  },
  {
   "cell_type": "code",
   "execution_count": 64,
   "metadata": {},
   "outputs": [],
   "source": [
    "def gera_aleatorio(num_atibutos):\n",
    "    return (2 * np.random.rand(num_atibutos)) - 1\n",
    "\n",
    "def gera_cromossomos(x, b):\n",
    "    return np.sum(x * b, axis=1)\n",
    "\n",
    "def fit_cromossomos(x, y, b):\n",
    "   \n",
    "    previsao = np.where( gera_cromossomos(x,b) < 0, 0, 1)\n",
    "\n",
    "    total_corretos = pd.crosstab(y, previsao, dropna=False).reindex(columns=[0,1], fill_value=0)\n",
    "    total_valores = dict(collections.Counter(y))\n",
    "        \n",
    "    return (total_corretos.loc[0,0] * total_corretos.loc[1,1]) / (total_valores[1] * total_valores[0])\n",
    "\n",
    "def seleciona_pais(fc_df):\n",
    "    escolhidos = np.random.rand(2)\n",
    "    fc_df['total'] = fc_df['fc_cromossomo'].sum()\n",
    "    fc_df['proporcao'] = fc_df['fc_cromossomo'] / fc_df['total']\n",
    "    fc_df = fc_df.fillna(0)\n",
    "    \n",
    "    if(any(fc_df['proporcao'] == 1) | all(fc_df['proporcao'] == 0)):\n",
    "        prop = None\n",
    "    else:\n",
    "        prop = fc_df['proporcao']\n",
    "        \n",
    "    return np.random.choice(fc_df.index, size=2, p=prop, replace=False)\n",
    "\n",
    "def crossover(fc, bc, escolhidos, x, y):\n",
    "    fc_filho = []\n",
    "    bc_filho = []\n",
    "    \n",
    "    tamanho = x.shape[1]\n",
    "    cross = np.random.randint(0,tamanho,3)\n",
    "    \n",
    "    fc_menor_indice = fc.nsmallest(2, 'fc_cromossomo').index\n",
    "\n",
    "    for parte in cross:\n",
    "        cromo_subistitui = np.random.randint(0,tamanho,2)\n",
    "        cromo_ind = np.random.randint(0,6)\n",
    "        \n",
    "        filho = np.concatenate( (bc[escolhidos[0]][:parte+1], bc[escolhidos[1]][parte+1:]) )\n",
    "        filho[cromo_subistitui[0]] = bc[cromo_ind][cromo_subistitui[1]]\n",
    "        \n",
    "        fc_filho.append(fit_cromossomos(x,y,filho))\n",
    "        bc_filho.append(filho)\n",
    "        \n",
    "    bc_filho = dict(enumerate(bc_filho))\n",
    "    fc_filho = pd.DataFrame.from_dict(dict(enumerate(fc_filho)), orient = 'index', columns = ['fc_cromossomo'])\n",
    "    fc_filho = fc_filho.iloc[fc_filho.nlargest(2, 'fc_cromossomo').index]\n",
    "    \n",
    "    for i, menor in  enumerate(fc_menor_indice):\n",
    "        bc[menor] = bc_filho[i]\n",
    "        fc.iloc[menor] = fc_filho.iloc[i]\n",
    "    \n",
    "def fit(x, y, num_cromossomos = 6, iteracao = 500):\n",
    "    \n",
    "    for i in range(iteracao):\n",
    "        banco_cromossomos = []\n",
    "        banco_fit = []\n",
    "    \n",
    "        for i in range(num_cromossomos):\n",
    "            b = gera_aleatorio(x.shape[1])\n",
    "        \n",
    "            fc = fit_cromossomos(x,y,b)\n",
    "        \n",
    "            banco_cromossomos.append(b)\n",
    "            banco_fit.append(fc)\n",
    "        \n",
    "        banco_cromossomos = dict(enumerate(banco_cromossomos))\n",
    "        banco_fit = pd.DataFrame.from_dict(dict(enumerate(banco_fit)), orient = 'index', columns = ['fc_cromossomo'])\n",
    "    \n",
    "        escolhidos = seleciona_pais(banco_fit.copy())\n",
    "        crossover(banco_fit, banco_cromossomos, escolhidos, x, y)\n",
    "\n",
    "    return banco_cromossomos[banco_fit.nlargest(1, 'fc_cromossomo').index[0]]"
   ]
  },
  {
   "cell_type": "code",
   "execution_count": 66,
   "metadata": {},
   "outputs": [
    {
     "data": {
      "text/plain": [
       "array([-0.42335041, -0.34511003,  0.93025511, -0.27307852, -0.81757346])"
      ]
     },
     "execution_count": 66,
     "metadata": {},
     "output_type": "execute_result"
    }
   ],
   "source": [
    "fit(x,y)"
   ]
  },
  {
   "cell_type": "code",
   "execution_count": null,
   "metadata": {},
   "outputs": [],
   "source": [
    "#testes\n",
    "'''# convert numerico para categorical\n",
    "cols = df.drop(columns='loan_status').select_dtypes(include=['float64','int64']).columns\n",
    "\n",
    "df.person_age = pd.cut(df.person_age, bins=[19,30,40,50,150], labels=['ate 30', 'ate 40', 'ate 50', 'acima 50'])\n",
    "df.person_income = pd.cut(df.person_income, bins=4, labels=['Faixa salario 1', 'Faixa salario 2', \n",
    "                                                            'Faixa salario 3', 'Faixa salario 4'])\n",
    "df.person_emp_length = pd.cut(df.person_emp_length, bins=[-1,2,5,10,20,30,40,50], \n",
    "                              labels=['Faixa emprego 1', 'Faixa emprego 2', 'Faixa emprego 3', \n",
    "                                      'Faixa emrpego 4', 'Faixa emprego 5', 'Faixa emprego 6',\n",
    "                                      'Faixa emprego 7'])\n",
    "df.loan_amnt = pd.cut(df.loan_amnt, bins=4, labels=['Faixa loan 1', 'Faixa loan 2', 'Faixa loan 3', 'Faixa loan 4'])\n",
    "df.loan_int_rate = pd.cut(df.loan_int_rate, bins=5, labels=['Faixa rate 1', 'Faixa rate 2', 'Faixa rate 3', \n",
    "                                                            'Faixa rate 4', 'Faixa rate 5'])\n",
    "df.loan_percent_income = pd.cut(df.loan_percent_income, bins=5, labels=['Faixa perc 1', 'Faixa perc 2', 'Faixa perc 3', \n",
    "                                                                        'Faixa perc 4', 'Faixa perc 5'])\n",
    "df.cb_person_cred_hist_length = pd.cut(df.cb_person_cred_hist_length, bins=5, \n",
    "                                       labels=['Faixa cred 1', 'Faixa cred 2', 'Faixa cred 3', \n",
    "                                               'Faixa cred 4', 'Faixa cred 5'])'''"
   ]
  }
 ],
 "metadata": {
  "kernelspec": {
   "display_name": "Python 3",
   "language": "python",
   "name": "python3"
  },
  "language_info": {
   "codemirror_mode": {
    "name": "ipython",
    "version": 3
   },
   "file_extension": ".py",
   "mimetype": "text/x-python",
   "name": "python",
   "nbconvert_exporter": "python",
   "pygments_lexer": "ipython3",
   "version": "3.7.3"
  }
 },
 "nbformat": 4,
 "nbformat_minor": 2
}
